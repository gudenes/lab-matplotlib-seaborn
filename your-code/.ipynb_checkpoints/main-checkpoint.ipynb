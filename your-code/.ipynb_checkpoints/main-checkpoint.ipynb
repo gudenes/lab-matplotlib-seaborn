{
 "cells": [
  {
   "cell_type": "markdown",
   "metadata": {
    "toc": true
   },
   "source": [
    "<h1>Table of Contents<span class=\"tocSkip\"></span></h1>\n",
    "<div class=\"toc\"><ul class=\"toc-item\"><li><span><a href=\"#Lab-|-Matplotlib-&amp;-Seaborn\" data-toc-modified-id=\"Lab-|-Matplotlib-&amp;-Seaborn-1\"><span class=\"toc-item-num\">1&nbsp;&nbsp;</span>Lab | Matplotlib &amp; Seaborn</a></span><ul class=\"toc-item\"><li><ul class=\"toc-item\"><li><ul class=\"toc-item\"><li><span><a href=\"#Import-all-the-necessary-libraries-here:\" data-toc-modified-id=\"Import-all-the-necessary-libraries-here:-1.0.0.1\"><span class=\"toc-item-num\">1.0.0.1&nbsp;&nbsp;</span>Import all the necessary libraries here:</a></span></li></ul></li></ul></li><li><span><a href=\"#Challenge-1\" data-toc-modified-id=\"Challenge-1-1.1\"><span class=\"toc-item-num\">1.1&nbsp;&nbsp;</span>Challenge 1</a></span><ul class=\"toc-item\"><li><ul class=\"toc-item\"><li><span><a href=\"#The-data-we-will-use-in-this-challenge-is:\" data-toc-modified-id=\"The-data-we-will-use-in-this-challenge-is:-1.1.0.1\"><span class=\"toc-item-num\">1.1.0.1&nbsp;&nbsp;</span>The data we will use in this challenge is:</a></span></li><li><span><a href=\"#Plot-(x,-y)-and-(x,-z).\" data-toc-modified-id=\"Plot-(x,-y)-and-(x,-z).-1.1.0.2\"><span class=\"toc-item-num\">1.1.0.2&nbsp;&nbsp;</span>Plot (x, y) and (x, z).</a></span></li><li><span><a href=\"#Use-plt.subplots(nrows=1,-ncols=2)-to-create-the-plot.\" data-toc-modified-id=\"Use-plt.subplots(nrows=1,-ncols=2)-to-create-the-plot.-1.1.0.3\"><span class=\"toc-item-num\">1.1.0.3&nbsp;&nbsp;</span>Use plt.subplots(nrows=1, ncols=2) to create the plot.</a></span></li><li><span><a href=\"#Use-your-previous-code-but-now,-resize-your-plot.\" data-toc-modified-id=\"Use-your-previous-code-but-now,-resize-your-plot.-1.1.0.4\"><span class=\"toc-item-num\">1.1.0.4&nbsp;&nbsp;</span>Use your previous code but now, resize your plot.</a></span></li><li><span><a href=\"#Plot-both-$y=x^2$-and-$y=e^x$-in-the-same-plot-using-normal-and-logarithmic-scale.\" data-toc-modified-id=\"Plot-both-$y=x^2$-and-$y=e^x$-in-the-same-plot-using-normal-and-logarithmic-scale.-1.1.0.5\"><span class=\"toc-item-num\">1.1.0.5&nbsp;&nbsp;</span>Plot both $y=x^2$ and $y=e^x$ in the same plot using normal and logarithmic scale.</a></span></li><li><span><a href=\"#As-a-bonus-challenge,-try-to-add-a-legend-to-the-plot.\" data-toc-modified-id=\"As-a-bonus-challenge,-try-to-add-a-legend-to-the-plot.-1.1.0.6\"><span class=\"toc-item-num\">1.1.0.6&nbsp;&nbsp;</span>As a bonus challenge, try to add a legend to the plot.</a></span></li></ul></li></ul></li><li><span><a href=\"#Challenge-2\" data-toc-modified-id=\"Challenge-2-1.2\"><span class=\"toc-item-num\">1.2&nbsp;&nbsp;</span>Challenge 2</a></span><ul class=\"toc-item\"><li><ul class=\"toc-item\"><li><span><a href=\"#Import-the-Fitbit2-dataset-and-store-it-in-a-variable-called-fitbit.-You-can-find-the-dataset-in-Ironhack's-database:\" data-toc-modified-id=\"Import-the-Fitbit2-dataset-and-store-it-in-a-variable-called-fitbit.-You-can-find-the-dataset-in-Ironhack's-database:-1.2.0.1\"><span class=\"toc-item-num\">1.2.0.1&nbsp;&nbsp;</span>Import the <code>Fitbit2</code> dataset and store it in a variable called <code>fitbit</code>. You can find the dataset in Ironhack's database:</a></span></li><li><span><a href=\"#From-the-Fitbit-data,-we-want-to-visually-understand:\" data-toc-modified-id=\"From-the-Fitbit-data,-we-want-to-visually-understand:-1.2.0.2\"><span class=\"toc-item-num\">1.2.0.2&nbsp;&nbsp;</span>From the Fitbit data, we want to visually understand:</a></span></li><li><span><a href=\"#Write-a-loop-to-plot-3-scatter-plots-of-the-following-features:\" data-toc-modified-id=\"Write-a-loop-to-plot-3-scatter-plots-of-the-following-features:-1.2.0.3\"><span class=\"toc-item-num\">1.2.0.3&nbsp;&nbsp;</span>Write a loop to plot 3 scatter plots of the following features:</a></span></li></ul></li></ul></li><li><span><a href=\"#Challenge-3\" data-toc-modified-id=\"Challenge-3-1.3\"><span class=\"toc-item-num\">1.3&nbsp;&nbsp;</span>Challenge 3</a></span><ul class=\"toc-item\"><li><ul class=\"toc-item\"><li><span><a href=\"#Import-the-titanic-dataset-and-store-it-in-a-variable-called-titanic.-You-can-find-the-dataset-in-Ironhack's-database:\" data-toc-modified-id=\"Import-the-titanic-dataset-and-store-it-in-a-variable-called-titanic.-You-can-find-the-dataset-in-Ironhack's-database:-1.3.0.1\"><span class=\"toc-item-num\">1.3.0.1&nbsp;&nbsp;</span>Import the <code>titanic</code> dataset and store it in a variable called <code>titanic</code>. You can find the dataset in Ironhack's database:</a></span></li><li><span><a href=\"#Explore-the-titanic-dataset-using-Pandas-dtypes.\" data-toc-modified-id=\"Explore-the-titanic-dataset-using-Pandas-dtypes.-1.3.0.2\"><span class=\"toc-item-num\">1.3.0.2&nbsp;&nbsp;</span>Explore the titanic dataset using Pandas dtypes.</a></span></li><li><span><a href=\"#What-are-your-numerical-variables?-What-are-your-categorical-variables?\" data-toc-modified-id=\"What-are-your-numerical-variables?-What-are-your-categorical-variables?-1.3.0.3\"><span class=\"toc-item-num\">1.3.0.3&nbsp;&nbsp;</span>What are your numerical variables? What are your categorical variables?</a></span></li><li><span><a href=\"#Set-the-plot-style-to-classic-and-the-figure-size-to-(12,6).\" data-toc-modified-id=\"Set-the-plot-style-to-classic-and-the-figure-size-to-(12,6).-1.3.0.4\"><span class=\"toc-item-num\">1.3.0.4&nbsp;&nbsp;</span>Set the plot style to classic and the figure size to (12,6).</a></span></li><li><span><a href=\"#Use-the-right-visulalization-to-show-the-distribution-of-column-Age.\" data-toc-modified-id=\"Use-the-right-visulalization-to-show-the-distribution-of-column-Age.-1.3.0.5\"><span class=\"toc-item-num\">1.3.0.5&nbsp;&nbsp;</span>Use the right visulalization to show the distribution of column <code>Age</code>.</a></span></li><li><span><a href=\"#Use-subplots-and-plot-the-distribution-of-the-Age--with-bins-equal-to-10,-20-and-50.\" data-toc-modified-id=\"Use-subplots-and-plot-the-distribution-of-the-Age--with-bins-equal-to-10,-20-and-50.-1.3.0.6\"><span class=\"toc-item-num\">1.3.0.6&nbsp;&nbsp;</span>Use subplots and plot the distribution of the <code>Age</code>  with bins equal to 10, 20 and 50.</a></span></li><li><span><a href=\"#How-does-the-bin-size-affect-your-plot?\" data-toc-modified-id=\"How-does-the-bin-size-affect-your-plot?-1.3.0.7\"><span class=\"toc-item-num\">1.3.0.7&nbsp;&nbsp;</span>How does the bin size affect your plot?</a></span></li><li><span><a href=\"#Use-seaborn-to-show-the-distribution-of-column-Age.\" data-toc-modified-id=\"Use-seaborn-to-show-the-distribution-of-column-Age.-1.3.0.8\"><span class=\"toc-item-num\">1.3.0.8&nbsp;&nbsp;</span>Use seaborn to show the distribution of column <code>Age</code>.</a></span></li><li><span><a href=\"#Use-the-right-plot-to-visualize-column-Gender.-There-are-2-ways-of-doing-it.-Do-it-both-ways.\" data-toc-modified-id=\"Use-the-right-plot-to-visualize-column-Gender.-There-are-2-ways-of-doing-it.-Do-it-both-ways.-1.3.0.9\"><span class=\"toc-item-num\">1.3.0.9&nbsp;&nbsp;</span>Use the right plot to visualize column <code>Gender</code>. There are 2 ways of doing it. Do it both ways.</a></span></li><li><span><a href=\"#Use-the-right-plot-to-visualize-the-column-Pclass.\" data-toc-modified-id=\"Use-the-right-plot-to-visualize-the-column-Pclass.-1.3.0.10\"><span class=\"toc-item-num\">1.3.0.10&nbsp;&nbsp;</span>Use the right plot to visualize the column <code>Pclass</code>.</a></span></li><li><span><a href=\"#We-would-like-to-have-in-one-single-plot-the-summary-statistics-of-the-feature-Age.-What-kind-of-plot-would-you-use?-Plot-it.\" data-toc-modified-id=\"We-would-like-to-have-in-one-single-plot-the-summary-statistics-of-the-feature-Age.-What-kind-of-plot-would-you-use?-Plot-it.-1.3.0.11\"><span class=\"toc-item-num\">1.3.0.11&nbsp;&nbsp;</span>We would like to have in one single plot the summary statistics of the feature <code>Age</code>. What kind of plot would you use? Plot it.</a></span></li><li><span><a href=\"#What-does-the-last-plot-tell-you-about-the-feature-Age?\" data-toc-modified-id=\"What-does-the-last-plot-tell-you-about-the-feature-Age?-1.3.0.12\"><span class=\"toc-item-num\">1.3.0.12&nbsp;&nbsp;</span>What does the last plot tell you about the feature <code>Age</code>?</a></span></li><li><span><a href=\"#Now-in-addition-to-the-summary-statistics,-we-want-to-have-in-the-same-plot-the-distribution-of-Age.-What-kind-of-plot-would-you-use?-Plot-it.\" data-toc-modified-id=\"Now-in-addition-to-the-summary-statistics,-we-want-to-have-in-the-same-plot-the-distribution-of-Age.-What-kind-of-plot-would-you-use?-Plot-it.-1.3.0.13\"><span class=\"toc-item-num\">1.3.0.13&nbsp;&nbsp;</span>Now in addition to the summary statistics, we want to have in the same plot the distribution of <code>Age</code>. What kind of plot would you use? Plot it.</a></span></li><li><span><a href=\"#What-additional-information-does-the-last-plot-provide-about-feature-Age?\" data-toc-modified-id=\"What-additional-information-does-the-last-plot-provide-about-feature-Age?-1.3.0.14\"><span class=\"toc-item-num\">1.3.0.14&nbsp;&nbsp;</span>What additional information does the last plot provide about feature <code>Age</code>?</a></span></li><li><span><a href=\"#We-suspect-that-there-is-a-linear-relationship-between-Fare-and-Age.-Use-the-right-plot-to-show-the-relationship-between-these-2-features.-There-are-2-ways,-please-do-it-both-ways.\" data-toc-modified-id=\"We-suspect-that-there-is-a-linear-relationship-between-Fare-and-Age.-Use-the-right-plot-to-show-the-relationship-between-these-2-features.-There-are-2-ways,-please-do-it-both-ways.-1.3.0.15\"><span class=\"toc-item-num\">1.3.0.15&nbsp;&nbsp;</span>We suspect that there is a linear relationship between <code>Fare</code> and <code>Age</code>. Use the right plot to show the relationship between these 2 features. There are 2 ways, please do it both ways.</a></span></li><li><span><a href=\"#Plot-the-correlation-matrix-using-seaborn.\" data-toc-modified-id=\"Plot-the-correlation-matrix-using-seaborn.-1.3.0.16\"><span class=\"toc-item-num\">1.3.0.16&nbsp;&nbsp;</span>Plot the correlation matrix using seaborn.</a></span></li><li><span><a href=\"#What-are-the-most-correlated-features?\" data-toc-modified-id=\"What-are-the-most-correlated-features?-1.3.0.17\"><span class=\"toc-item-num\">1.3.0.17&nbsp;&nbsp;</span>What are the most correlated features?</a></span></li><li><span><a href=\"#Use-the-most-appropriate-plot-to-display-the-summary-statistics-of-Age-depending-on-Pclass.\" data-toc-modified-id=\"Use-the-most-appropriate-plot-to-display-the-summary-statistics-of-Age-depending-on-Pclass.-1.3.0.18\"><span class=\"toc-item-num\">1.3.0.18&nbsp;&nbsp;</span>Use the most appropriate plot to display the summary statistics of <code>Age</code> depending on <code>Pclass</code>.</a></span></li><li><span><a href=\"#Use-seaborn-to-plot-the-distribution-of-Age-based-on-the-Gender.\" data-toc-modified-id=\"Use-seaborn-to-plot-the-distribution-of-Age-based-on-the-Gender.-1.3.0.19\"><span class=\"toc-item-num\">1.3.0.19&nbsp;&nbsp;</span>Use seaborn to plot the distribution of <code>Age</code> based on the <code>Gender</code>.</a></span></li></ul></li></ul></li></ul></li></ul></div>"
   ]
  },
  {
   "cell_type": "markdown",
   "metadata": {},
   "source": [
    "# Lab | Matplotlib & Seaborn\n",
    "\n",
    "#### Import all the necessary libraries here:"
   ]
  },
  {
   "cell_type": "code",
   "execution_count": 2,
   "metadata": {
    "ExecuteTime": {
     "end_time": "2019-08-03T10:03:16.863873Z",
     "start_time": "2019-08-03T10:03:16.367282Z"
    }
   },
   "outputs": [],
   "source": [
    "# Libraries\n",
    "import numpy as np\n",
    "import pandas as pd\n",
    "import matplotlib.pyplot as plt\n",
    "%matplotlib inline\n",
    "import seaborn as sns"
   ]
  },
  {
   "cell_type": "markdown",
   "metadata": {},
   "source": [
    "## Challenge 1\n",
    "\n",
    "#### The data we will use in this challenge is:"
   ]
  },
  {
   "cell_type": "code",
   "execution_count": 3,
   "metadata": {
    "ExecuteTime": {
     "end_time": "2019-08-03T10:03:24.474213Z",
     "start_time": "2019-08-03T10:03:24.471705Z"
    }
   },
   "outputs": [],
   "source": [
    "x = np.arange(0,100)\n",
    "y = x*2\n",
    "z = x**2"
   ]
  },
  {
   "cell_type": "markdown",
   "metadata": {},
   "source": [
    "#### Plot (x, y) and (x, z).\n",
    "There are 2 ways of doing this. Do in both ways.\n",
    "\n",
    "**Hint**: Check out the nrows, ncols and index arguments of subplots. \n",
    "\n",
    "Also, play around with the linewidth and style. Use the ones you're most happy with."
   ]
  },
  {
   "cell_type": "code",
   "execution_count": 10,
   "metadata": {
    "ExecuteTime": {
     "end_time": "2019-08-03T10:04:39.706863Z",
     "start_time": "2019-08-03T10:04:39.452675Z"
    }
   },
   "outputs": [
    {
     "data": {
      "image/png": "[encoded data removed]",
      "text/plain": [
       "<Figure size 432x288 with 1 Axes>"
      ]
     },
     "metadata": {
      "needs_background": "light"
     },
     "output_type": "display_data"
    },
    {
     "data": {
      "image/png": "[encoded data removed]",
      "text/plain": [
       "<Figure size 432x288 with 1 Axes>"
      ]
     },
     "metadata": {
      "needs_background": "light"
     },
     "output_type": "display_data"
    }
   ],
   "source": [
    "# Method 1\n",
    "plt.plot(x,y)\n",
    "plt.show()\n",
    "plt.plot(x,z)\n",
    "plt.show()"
   ]
  },
  {
   "cell_type": "markdown",
   "metadata": {},
   "source": [
    "#### Use plt.subplots(nrows=1, ncols=2) to create the plot."
   ]
  },
  {
   "cell_type": "code",
   "execution_count": 14,
   "metadata": {
    "ExecuteTime": {
     "end_time": "2019-08-03T10:08:00.383682Z",
     "start_time": "2019-08-03T10:08:00.120687Z"
    }
   },
   "outputs": [
    {
     "data": {
      "text/plain": [
       "[<matplotlib.lines.Line2D at 0x7f0fd64e0cf8>]"
      ]
     },
     "execution_count": 14,
     "metadata": {},
     "output_type": "execute_result"
    },
    {
     "data": {
      "image/png": "[encoded data removed]",
      "text/plain": [
       "<Figure size 432x288 with 2 Axes>"
      ]
     },
     "metadata": {
      "needs_background": "light"
     },
     "output_type": "display_data"
    }
   ],
   "source": [
    "# Method 2\n",
    "fig, [ax1,ax2] = plt.subplots(nrows=1, ncols=2)\n",
    "ax1.plot(x,y)\n",
    "ax2.plot(x,z)"
   ]
  },
  {
   "cell_type": "markdown",
   "metadata": {},
   "source": [
    "#### Use your previous code but now, resize your plot.\n",
    "**Hint**: Add the figsize argument in plt.subplots().\n",
    "\n",
    "If you want, try to add a title to the plot or even axes labels. You can also play with the fontweight and fontsize of the titles and labels. "
   ]
  },
  {
   "cell_type": "code",
   "execution_count": 26,
   "metadata": {
    "ExecuteTime": {
     "end_time": "2019-08-03T10:13:33.292458Z",
     "start_time": "2019-08-03T10:13:33.053368Z"
    }
   },
   "outputs": [
    {
     "data": {
      "text/plain": [
       "[<matplotlib.lines.Line2D at 0x7f0fd57e2198>]"
      ]
     },
     "execution_count": 26,
     "metadata": {},
     "output_type": "execute_result"
    },
    {
     "data": {
      "image/png": "[encoded data removed]",
      "text/plain": [
       "<Figure size 432x288 with 2 Axes>"
      ]
     },
     "metadata": {
      "needs_background": "light"
     },
     "output_type": "display_data"
    }
   ],
   "source": [
    "# your code here\n",
    "fig, [ax1,ax2] = plt.subplots(nrows=1, ncols=2)\n",
    "ax1.plot(x,y, markersize= 32, linewidth=10)\n",
    "ax2.plot(x,z, markersize= 32, linewidth=20)"
   ]
  },
  {
   "cell_type": "markdown",
   "metadata": {},
   "source": [
    "#### Plot both $y=x^2$ and $y=e^x$ in the same plot using normal and logarithmic scale.\n",
    "**Hint**: Use `set_xscale` and `set_yscale`."
   ]
  },
  {
   "cell_type": "code",
   "execution_count": 39,
   "metadata": {
    "ExecuteTime": {
     "end_time": "2019-08-03T10:20:24.840078Z",
     "start_time": "2019-08-03T10:20:24.664949Z"
    }
   },
   "outputs": [
    {
     "data": {
      "image/png": "[encoded data removed]",
      "text/plain": [
       "<Figure size 432x288 with 1 Axes>"
      ]
     },
     "metadata": {
      "needs_background": "light"
     },
     "output_type": "display_data"
    }
   ],
   "source": [
    "# your code here\n",
    "plt.plot(x,y**2, label=\"Normal\")\n",
    "plt.plot(x,y^2, label=\"Log\")\n",
    "plt.legend()\n",
    "plt.show()"
   ]
  },
  {
   "cell_type": "markdown",
   "metadata": {},
   "source": [
    "#### As a bonus challenge, try to add a legend to the plot."
   ]
  },
  {
   "cell_type": "code",
   "execution_count": 40,
   "metadata": {
    "ExecuteTime": {
     "end_time": "2019-08-03T10:20:40.999424Z",
     "start_time": "2019-08-03T10:20:40.802226Z"
    }
   },
   "outputs": [
    {
     "data": {
      "image/png": "[encoded data removed]",
      "text/plain": [
       "<Figure size 432x288 with 1 Axes>"
      ]
     },
     "metadata": {
      "needs_background": "light"
     },
     "output_type": "display_data"
    }
   ],
   "source": [
    "# your code here\n",
    "plt.plot(x,y**2, label=\"Normal\")\n",
    "plt.plot(x,y^2, label=\"Log\")\n",
    "plt.legend()\n",
    "plt.show()"
   ]
  },
  {
   "cell_type": "markdown",
   "metadata": {},
   "source": [
    "## Challenge 2\n",
    "#### Import the `Fitbit2` dataset and store it in a variable called `fitbit`. You can find the dataset in Ironhack's database:\n",
    "* db: `fitbit`\n",
    "* table: `fitbit2`"
   ]
  },
  {
   "cell_type": "code",
   "execution_count": 53,
   "metadata": {
    "ExecuteTime": {
     "end_time": "2019-08-03T10:41:49.010939Z",
     "start_time": "2019-08-03T10:41:48.977136Z"
    }
   },
   "outputs": [
    {
     "data": {
      "text/html": [
       "<div>\n",
       "<style scoped>\n",
       "    .dataframe tbody tr th:only-of-type {\n",
       "        vertical-align: middle;\n",
       "    }\n",
       "\n",
       "    .dataframe tbody tr th {\n",
       "        vertical-align: top;\n",
       "    }\n",
       "\n",
       "    .dataframe thead th {\n",
       "        text-align: right;\n",
       "    }\n",
       "</style>\n",
       "<table border=\"1\" class=\"dataframe\">\n",
       "  <thead>\n",
       "    <tr style=\"text-align: right;\">\n",
       "      <th></th>\n",
       "      <th>Date</th>\n",
       "      <th>Calorie burned</th>\n",
       "      <th>Steps</th>\n",
       "      <th>Distance</th>\n",
       "      <th>Floors</th>\n",
       "      <th>Minutes Sedentary</th>\n",
       "      <th>Minutes Lightly Active</th>\n",
       "      <th>Minutes Fairly Active</th>\n",
       "      <th>Minutes Very Active</th>\n",
       "      <th>Activity Calories</th>\n",
       "      <th>...</th>\n",
       "      <th>Distance_miles</th>\n",
       "      <th>Days</th>\n",
       "      <th>Days_encoded</th>\n",
       "      <th>Work_or_Weekend</th>\n",
       "      <th>Hours Sleep</th>\n",
       "      <th>Sleep efficiency</th>\n",
       "      <th>Yesterday_sleep</th>\n",
       "      <th>Yesterday_sleep_efficiency</th>\n",
       "      <th>Months</th>\n",
       "      <th>Months_encoded</th>\n",
       "    </tr>\n",
       "  </thead>\n",
       "  <tbody>\n",
       "    <tr>\n",
       "      <th>0</th>\n",
       "      <td>2015-05-08</td>\n",
       "      <td>1934</td>\n",
       "      <td>905</td>\n",
       "      <td>0.65</td>\n",
       "      <td>0</td>\n",
       "      <td>1.355</td>\n",
       "      <td>46</td>\n",
       "      <td>0</td>\n",
       "      <td>0</td>\n",
       "      <td>1680</td>\n",
       "      <td>...</td>\n",
       "      <td>0.403891</td>\n",
       "      <td>Friday</td>\n",
       "      <td>4</td>\n",
       "      <td>1</td>\n",
       "      <td>6.400000</td>\n",
       "      <td>92.086331</td>\n",
       "      <td>0.000000</td>\n",
       "      <td>0.000000</td>\n",
       "      <td>May</td>\n",
       "      <td>5</td>\n",
       "    </tr>\n",
       "    <tr>\n",
       "      <th>1</th>\n",
       "      <td>2015-05-09</td>\n",
       "      <td>3631</td>\n",
       "      <td>18925</td>\n",
       "      <td>14.11</td>\n",
       "      <td>4</td>\n",
       "      <td>611.000</td>\n",
       "      <td>316</td>\n",
       "      <td>61</td>\n",
       "      <td>60</td>\n",
       "      <td>2248</td>\n",
       "      <td>...</td>\n",
       "      <td>8.767545</td>\n",
       "      <td>Saturday</td>\n",
       "      <td>5</td>\n",
       "      <td>0</td>\n",
       "      <td>7.566667</td>\n",
       "      <td>92.464358</td>\n",
       "      <td>6.400000</td>\n",
       "      <td>92.086331</td>\n",
       "      <td>May</td>\n",
       "      <td>5</td>\n",
       "    </tr>\n",
       "    <tr>\n",
       "      <th>2</th>\n",
       "      <td>2015-05-10</td>\n",
       "      <td>3204</td>\n",
       "      <td>14228</td>\n",
       "      <td>10.57</td>\n",
       "      <td>1</td>\n",
       "      <td>602.000</td>\n",
       "      <td>226</td>\n",
       "      <td>14</td>\n",
       "      <td>77</td>\n",
       "      <td>1719</td>\n",
       "      <td>...</td>\n",
       "      <td>6.567891</td>\n",
       "      <td>Sunday</td>\n",
       "      <td>6</td>\n",
       "      <td>0</td>\n",
       "      <td>6.450000</td>\n",
       "      <td>88.761468</td>\n",
       "      <td>7.566667</td>\n",
       "      <td>92.464358</td>\n",
       "      <td>May</td>\n",
       "      <td>5</td>\n",
       "    </tr>\n",
       "    <tr>\n",
       "      <th>3</th>\n",
       "      <td>2015-05-11</td>\n",
       "      <td>2673</td>\n",
       "      <td>6756</td>\n",
       "      <td>5.02</td>\n",
       "      <td>8</td>\n",
       "      <td>749.000</td>\n",
       "      <td>190</td>\n",
       "      <td>23</td>\n",
       "      <td>4</td>\n",
       "      <td>9620</td>\n",
       "      <td>...</td>\n",
       "      <td>3.119282</td>\n",
       "      <td>Monday</td>\n",
       "      <td>0</td>\n",
       "      <td>1</td>\n",
       "      <td>5.183333</td>\n",
       "      <td>88.857143</td>\n",
       "      <td>6.450000</td>\n",
       "      <td>88.761468</td>\n",
       "      <td>May</td>\n",
       "      <td>5</td>\n",
       "    </tr>\n",
       "    <tr>\n",
       "      <th>4</th>\n",
       "      <td>2015-05-12</td>\n",
       "      <td>2495</td>\n",
       "      <td>502</td>\n",
       "      <td>3.73</td>\n",
       "      <td>1</td>\n",
       "      <td>876.000</td>\n",
       "      <td>171</td>\n",
       "      <td>0</td>\n",
       "      <td>0</td>\n",
       "      <td>7360</td>\n",
       "      <td>...</td>\n",
       "      <td>2.317714</td>\n",
       "      <td>Tuesday</td>\n",
       "      <td>1</td>\n",
       "      <td>1</td>\n",
       "      <td>6.783333</td>\n",
       "      <td>82.892057</td>\n",
       "      <td>5.183333</td>\n",
       "      <td>88.857143</td>\n",
       "      <td>May</td>\n",
       "      <td>5</td>\n",
       "    </tr>\n",
       "  </tbody>\n",
       "</table>\n",
       "<p>5 rows × 24 columns</p>\n",
       "</div>"
      ],
      "text/plain": [
       "         Date  Calorie burned  Steps  Distance  Floors  Minutes Sedentary  \\\n",
       "0  2015-05-08            1934    905      0.65       0              1.355   \n",
       "1  2015-05-09            3631  18925     14.11       4            611.000   \n",
       "2  2015-05-10            3204  14228     10.57       1            602.000   \n",
       "3  2015-05-11            2673   6756      5.02       8            749.000   \n",
       "4  2015-05-12            2495    502      3.73       1            876.000   \n",
       "\n",
       "   Minutes Lightly Active  Minutes Fairly Active  Minutes Very Active  \\\n",
       "0                      46                      0                    0   \n",
       "1                     316                     61                   60   \n",
       "2                     226                     14                   77   \n",
       "3                     190                     23                    4   \n",
       "4                     171                      0                    0   \n",
       "\n",
       "   Activity Calories  ...  Distance_miles      Days  Days_encoded  \\\n",
       "0               1680  ...        0.403891    Friday             4   \n",
       "1               2248  ...        8.767545  Saturday             5   \n",
       "2               1719  ...        6.567891    Sunday             6   \n",
       "3               9620  ...        3.119282    Monday             0   \n",
       "4               7360  ...        2.317714   Tuesday             1   \n",
       "\n",
       "   Work_or_Weekend  Hours Sleep Sleep efficiency  Yesterday_sleep  \\\n",
       "0                1     6.400000        92.086331         0.000000   \n",
       "1                0     7.566667        92.464358         6.400000   \n",
       "2                0     6.450000        88.761468         7.566667   \n",
       "3                1     5.183333        88.857143         6.450000   \n",
       "4                1     6.783333        82.892057         5.183333   \n",
       "\n",
       "   Yesterday_sleep_efficiency  Months  Months_encoded  \n",
       "0                    0.000000     May               5  \n",
       "1                   92.086331     May               5  \n",
       "2                   92.464358     May               5  \n",
       "3                   88.761468     May               5  \n",
       "4                   88.857143     May               5  \n",
       "\n",
       "[5 rows x 24 columns]"
      ]
     },
     "execution_count": 53,
     "metadata": {},
     "output_type": "execute_result"
    }
   ],
   "source": [
    "# your code here\n",
    "fitbit = pd.read_csv(\"/home/gus/Dropbox/IRONHACK/LABS/01 - PYTHON/lab-matplotlib-seaborn/your-code/Fitbit2.csv\")\n",
    "fitbit.head()"
   ]
  },
  {
   "cell_type": "code",
   "execution_count": 54,
   "metadata": {
    "ExecuteTime": {
     "end_time": "2019-08-03T10:41:54.002164Z",
     "start_time": "2019-08-03T10:41:53.994354Z"
    }
   },
   "outputs": [
    {
     "data": {
      "text/plain": [
       "Index(['Date', 'Calorie burned', 'Steps', 'Distance', 'Floors',\n",
       "       'Minutes Sedentary', 'Minutes Lightly Active', 'Minutes Fairly Active',\n",
       "       'Minutes Very Active', 'Activity Calories', 'MinutesOfSleep',\n",
       "       'MinutesOfBeingAwake', 'NumberOfAwakings', 'LengthOfRestInMinutes',\n",
       "       'Distance_miles', 'Days', 'Days_encoded', 'Work_or_Weekend',\n",
       "       'Hours Sleep', 'Sleep efficiency', 'Yesterday_sleep',\n",
       "       'Yesterday_sleep_efficiency', 'Months', 'Months_encoded'],\n",
       "      dtype='object')"
      ]
     },
     "execution_count": 54,
     "metadata": {},
     "output_type": "execute_result"
    }
   ],
   "source": [
    "fitbit.columns"
   ]
  },
  {
   "cell_type": "markdown",
   "metadata": {},
   "source": [
    "#### From the Fitbit data, we want to visually understand:\n",
    "\n",
    "How the average number of steps change by month. Use the appropriate visualization to show the median steps by month. Is Fitbitter more active on weekend or workdays? All plots must be in the same jupyter notebook cell.\n",
    "\n",
    "**Hints**:\n",
    "\n",
    "* Use Months_encoded and Week_or Weekend columns.\n",
    "* Use matplolib.pyplot object oriented API.\n",
    "* Set your size figure to 12,4\n",
    "* Explore plt.sca\n",
    "* Explore plt.xticks\n",
    "* Save your figures in a folder called `figures` in your repo. "
   ]
  },
  {
   "cell_type": "code",
   "execution_count": 106,
   "metadata": {
    "ExecuteTime": {
     "end_time": "2019-08-03T11:05:07.906381Z",
     "start_time": "2019-08-03T11:05:07.393896Z"
    }
   },
   "outputs": [
    {
     "data": {
      "image/png": "[encoded data removed]",
      "text/plain": [
       "<Figure size 432x288 with 1 Axes>"
      ]
     },
     "metadata": {
      "needs_background": "light"
     },
     "output_type": "display_data"
    },
    {
     "data": {
      "text/plain": [
       "<matplotlib.axes._subplots.AxesSubplot at 0x7f0fd1280978>"
      ]
     },
     "execution_count": 106,
     "metadata": {},
     "output_type": "execute_result"
    },
    {
     "data": {
      "image/png": "[encoded data removed]",
      "text/plain": [
       "<Figure size 432x288 with 1 Axes>"
      ]
     },
     "metadata": {
      "needs_background": "light"
     },
     "output_type": "display_data"
    }
   ],
   "source": [
    "# MEDIAN STEPS BY MONTH_ENCODED\n",
    "# your code here\n",
    "ax = fitbit.groupby(fitbit[\"Months_encoded\"])[\"Steps\"].agg(\"median\")\n",
    "fig, ax.plot.bar()\n",
    "plt.show()\n",
    "fig.savefig(\"Median_steps_by_month\")\n",
    "# MEDIAN STEPS BY WORK_OR_WEEKEND\n",
    "# your code here\n",
    "ax2 = fitbit.groupby(fitbit[\"Work_or_Weekend\"])[\"Steps\"].agg(\"median\")\n",
    "fig.savefig(\"Median_steps_by_work_or_weekend\")\n",
    "ax2.plot.bar()"
   ]
  },
  {
   "cell_type": "markdown",
   "metadata": {},
   "source": [
    "#### Write a loop to plot 3 scatter plots of the following features:\n",
    "\n",
    "* Minutes Lightly Active vs Steps    \n",
    "* Minutes Very Active vs Steps    \n",
    "* Minutes Sedentary vs Steps  "
   ]
  },
  {
   "cell_type": "code",
   "execution_count": 101,
   "metadata": {
    "ExecuteTime": {
     "end_time": "2019-08-03T10:59:57.324649Z",
     "start_time": "2019-08-03T10:59:56.896634Z"
    }
   },
   "outputs": [
    {
     "data": {
      "image/png": "[encoded data removed]",
      "text/plain": [
       "<Figure size 432x288 with 1 Axes>"
      ]
     },
     "metadata": {
      "needs_background": "light"
     },
     "output_type": "display_data"
    },
    {
     "data": {
      "image/png": "[encoded data removed]",
      "text/plain": [
       "<Figure size 432x288 with 1 Axes>"
      ]
     },
     "metadata": {
      "needs_background": "light"
     },
     "output_type": "display_data"
    },
    {
     "data": {
      "image/png": "[encoded data removed]",
      "text/plain": [
       "<Figure size 432x288 with 1 Axes>"
      ]
     },
     "metadata": {
      "needs_background": "light"
     },
     "output_type": "display_data"
    }
   ],
   "source": [
    "# your code here\n",
    "ll = [\"Minutes Lightly Active\", \"Minutes Very Active\", \"Minutes Sedentary\"]\n",
    "for i in ll:\n",
    "    sns.scatterplot(i,\"Steps\", data=fitbit)\n",
    "    plt.show()"
   ]
  },
  {
   "cell_type": "markdown",
   "metadata": {},
   "source": [
    "## Challenge 3\n",
    "\n",
    "#### Import the `titanic` dataset and store it in a variable called `titanic`. You can find the dataset in Ironhack's database:\n",
    "* db: `titanic`\n",
    "* table: `titanic`"
   ]
  },
  {
   "cell_type": "code",
   "execution_count": 110,
   "metadata": {
    "ExecuteTime": {
     "end_time": "2019-08-03T11:07:20.775151Z",
     "start_time": "2019-08-03T11:07:20.740364Z"
    },
    "scrolled": true
   },
   "outputs": [
    {
     "data": {
      "text/html": [
       "<div>\n",
       "<style scoped>\n",
       "    .dataframe tbody tr th:only-of-type {\n",
       "        vertical-align: middle;\n",
       "    }\n",
       "\n",
       "    .dataframe tbody tr th {\n",
       "        vertical-align: top;\n",
       "    }\n",
       "\n",
       "    .dataframe thead th {\n",
       "        text-align: right;\n",
       "    }\n",
       "</style>\n",
       "<table border=\"1\" class=\"dataframe\">\n",
       "  <thead>\n",
       "    <tr style=\"text-align: right;\">\n",
       "      <th></th>\n",
       "      <th>PassengerId</th>\n",
       "      <th>Survived</th>\n",
       "      <th>Pclass</th>\n",
       "      <th>Name</th>\n",
       "      <th>Gender</th>\n",
       "      <th>Age</th>\n",
       "      <th>SibSp</th>\n",
       "      <th>Parch</th>\n",
       "      <th>Ticket</th>\n",
       "      <th>Fare</th>\n",
       "      <th>Cabin</th>\n",
       "      <th>Embarked</th>\n",
       "    </tr>\n",
       "  </thead>\n",
       "  <tbody>\n",
       "    <tr>\n",
       "      <th>0</th>\n",
       "      <td>1</td>\n",
       "      <td>0.0</td>\n",
       "      <td>3</td>\n",
       "      <td>Braund, Mr. Owen Harris</td>\n",
       "      <td>male</td>\n",
       "      <td>22.0</td>\n",
       "      <td>1</td>\n",
       "      <td>0</td>\n",
       "      <td>A/5 21171</td>\n",
       "      <td>7.2500</td>\n",
       "      <td>U0</td>\n",
       "      <td>S</td>\n",
       "    </tr>\n",
       "    <tr>\n",
       "      <th>1</th>\n",
       "      <td>2</td>\n",
       "      <td>1.0</td>\n",
       "      <td>1</td>\n",
       "      <td>Cumings, Mrs. John Bradley (Florence Briggs Th...</td>\n",
       "      <td>female</td>\n",
       "      <td>38.0</td>\n",
       "      <td>1</td>\n",
       "      <td>0</td>\n",
       "      <td>PC 17599</td>\n",
       "      <td>71.2833</td>\n",
       "      <td>C85</td>\n",
       "      <td>C</td>\n",
       "    </tr>\n",
       "    <tr>\n",
       "      <th>2</th>\n",
       "      <td>3</td>\n",
       "      <td>1.0</td>\n",
       "      <td>3</td>\n",
       "      <td>Heikkinen, Miss. Laina</td>\n",
       "      <td>female</td>\n",
       "      <td>26.0</td>\n",
       "      <td>0</td>\n",
       "      <td>0</td>\n",
       "      <td>STON/O2. 3101282</td>\n",
       "      <td>7.9250</td>\n",
       "      <td>U0</td>\n",
       "      <td>S</td>\n",
       "    </tr>\n",
       "    <tr>\n",
       "      <th>3</th>\n",
       "      <td>4</td>\n",
       "      <td>1.0</td>\n",
       "      <td>1</td>\n",
       "      <td>Futrelle, Mrs. Jacques Heath (Lily May Peel)</td>\n",
       "      <td>female</td>\n",
       "      <td>35.0</td>\n",
       "      <td>1</td>\n",
       "      <td>0</td>\n",
       "      <td>113803</td>\n",
       "      <td>53.1000</td>\n",
       "      <td>C123</td>\n",
       "      <td>S</td>\n",
       "    </tr>\n",
       "    <tr>\n",
       "      <th>4</th>\n",
       "      <td>5</td>\n",
       "      <td>0.0</td>\n",
       "      <td>3</td>\n",
       "      <td>Allen, Mr. William Henry</td>\n",
       "      <td>male</td>\n",
       "      <td>35.0</td>\n",
       "      <td>0</td>\n",
       "      <td>0</td>\n",
       "      <td>373450</td>\n",
       "      <td>8.0500</td>\n",
       "      <td>U0</td>\n",
       "      <td>S</td>\n",
       "    </tr>\n",
       "  </tbody>\n",
       "</table>\n",
       "</div>"
      ],
      "text/plain": [
       "   PassengerId  Survived  Pclass  \\\n",
       "0            1       0.0       3   \n",
       "1            2       1.0       1   \n",
       "2            3       1.0       3   \n",
       "3            4       1.0       1   \n",
       "4            5       0.0       3   \n",
       "\n",
       "                                                Name  Gender   Age  SibSp  \\\n",
       "0                            Braund, Mr. Owen Harris    male  22.0      1   \n",
       "1  Cumings, Mrs. John Bradley (Florence Briggs Th...  female  38.0      1   \n",
       "2                             Heikkinen, Miss. Laina  female  26.0      0   \n",
       "3       Futrelle, Mrs. Jacques Heath (Lily May Peel)  female  35.0      1   \n",
       "4                           Allen, Mr. William Henry    male  35.0      0   \n",
       "\n",
       "   Parch            Ticket     Fare Cabin Embarked  \n",
       "0      0         A/5 21171   7.2500    U0        S  \n",
       "1      0          PC 17599  71.2833   C85        C  \n",
       "2      0  STON/O2. 3101282   7.9250    U0        S  \n",
       "3      0            113803  53.1000  C123        S  \n",
       "4      0            373450   8.0500    U0        S  "
      ]
     },
     "execution_count": 110,
     "metadata": {},
     "output_type": "execute_result"
    }
   ],
   "source": [
    "# your code here\n",
    "titanic = pd.read_csv(\"/home/gus/Dropbox/IRONHACK/LABS/01 - PYTHON/lab-matplotlib-seaborn/your-code/titanic.csv\")\n",
    "titanic.head()"
   ]
  },
  {
   "cell_type": "markdown",
   "metadata": {},
   "source": [
    "#### Explore the titanic dataset using Pandas dtypes."
   ]
  },
  {
   "cell_type": "code",
   "execution_count": 114,
   "metadata": {
    "ExecuteTime": {
     "end_time": "2019-08-03T11:07:45.115398Z",
     "start_time": "2019-08-03T11:07:45.101283Z"
    }
   },
   "outputs": [
    {
     "data": {
      "text/plain": [
       "PassengerId      int64\n",
       "Survived       float64\n",
       "Pclass           int64\n",
       "Name            object\n",
       "Gender          object\n",
       "Age            float64\n",
       "SibSp            int64\n",
       "Parch            int64\n",
       "Ticket          object\n",
       "Fare           float64\n",
       "Cabin           object\n",
       "Embarked        object\n",
       "dtype: object"
      ]
     },
     "execution_count": 114,
     "metadata": {},
     "output_type": "execute_result"
    }
   ],
   "source": [
    "# your code here\n",
    "titanic.dtypes"
   ]
  },
  {
   "cell_type": "markdown",
   "metadata": {},
   "source": [
    "#### What are your numerical variables? What are your categorical variables?\n",
    "**Hint**: Use Pandas select_dtypes."
   ]
  },
  {
   "cell_type": "code",
   "execution_count": 120,
   "metadata": {
    "ExecuteTime": {
     "end_time": "2019-08-03T11:09:02.524872Z",
     "start_time": "2019-08-03T11:09:02.513706Z"
    }
   },
   "outputs": [
    {
     "data": {
      "text/html": [
       "<div>\n",
       "<style scoped>\n",
       "    .dataframe tbody tr th:only-of-type {\n",
       "        vertical-align: middle;\n",
       "    }\n",
       "\n",
       "    .dataframe tbody tr th {\n",
       "        vertical-align: top;\n",
       "    }\n",
       "\n",
       "    .dataframe thead th {\n",
       "        text-align: right;\n",
       "    }\n",
       "</style>\n",
       "<table border=\"1\" class=\"dataframe\">\n",
       "  <thead>\n",
       "    <tr style=\"text-align: right;\">\n",
       "      <th></th>\n",
       "      <th>PassengerId</th>\n",
       "      <th>Pclass</th>\n",
       "      <th>SibSp</th>\n",
       "      <th>Parch</th>\n",
       "    </tr>\n",
       "  </thead>\n",
       "  <tbody>\n",
       "    <tr>\n",
       "      <th>0</th>\n",
       "      <td>1</td>\n",
       "      <td>3</td>\n",
       "      <td>1</td>\n",
       "      <td>0</td>\n",
       "    </tr>\n",
       "    <tr>\n",
       "      <th>1</th>\n",
       "      <td>2</td>\n",
       "      <td>1</td>\n",
       "      <td>1</td>\n",
       "      <td>0</td>\n",
       "    </tr>\n",
       "    <tr>\n",
       "      <th>2</th>\n",
       "      <td>3</td>\n",
       "      <td>3</td>\n",
       "      <td>0</td>\n",
       "      <td>0</td>\n",
       "    </tr>\n",
       "    <tr>\n",
       "      <th>3</th>\n",
       "      <td>4</td>\n",
       "      <td>1</td>\n",
       "      <td>1</td>\n",
       "      <td>0</td>\n",
       "    </tr>\n",
       "    <tr>\n",
       "      <th>4</th>\n",
       "      <td>5</td>\n",
       "      <td>3</td>\n",
       "      <td>0</td>\n",
       "      <td>0</td>\n",
       "    </tr>\n",
       "  </tbody>\n",
       "</table>\n",
       "</div>"
      ],
      "text/plain": [
       "   PassengerId  Pclass  SibSp  Parch\n",
       "0            1       3      1      0\n",
       "1            2       1      1      0\n",
       "2            3       3      0      0\n",
       "3            4       1      1      0\n",
       "4            5       3      0      0"
      ]
     },
     "execution_count": 120,
     "metadata": {},
     "output_type": "execute_result"
    }
   ],
   "source": [
    "# NUMERICAL VARIABLES\n",
    "# your code here\n",
    "titanic.select_dtypes(\"int64\").head()"
   ]
  },
  {
   "cell_type": "code",
   "execution_count": 121,
   "metadata": {
    "ExecuteTime": {
     "end_time": "2019-08-03T11:09:14.281950Z",
     "start_time": "2019-08-03T11:09:14.265972Z"
    }
   },
   "outputs": [
    {
     "data": {
      "text/html": [
       "<div>\n",
       "<style scoped>\n",
       "    .dataframe tbody tr th:only-of-type {\n",
       "        vertical-align: middle;\n",
       "    }\n",
       "\n",
       "    .dataframe tbody tr th {\n",
       "        vertical-align: top;\n",
       "    }\n",
       "\n",
       "    .dataframe thead th {\n",
       "        text-align: right;\n",
       "    }\n",
       "</style>\n",
       "<table border=\"1\" class=\"dataframe\">\n",
       "  <thead>\n",
       "    <tr style=\"text-align: right;\">\n",
       "      <th></th>\n",
       "      <th>Name</th>\n",
       "      <th>Gender</th>\n",
       "      <th>Ticket</th>\n",
       "      <th>Cabin</th>\n",
       "      <th>Embarked</th>\n",
       "    </tr>\n",
       "  </thead>\n",
       "  <tbody>\n",
       "    <tr>\n",
       "      <th>0</th>\n",
       "      <td>Braund, Mr. Owen Harris</td>\n",
       "      <td>male</td>\n",
       "      <td>A/5 21171</td>\n",
       "      <td>U0</td>\n",
       "      <td>S</td>\n",
       "    </tr>\n",
       "    <tr>\n",
       "      <th>1</th>\n",
       "      <td>Cumings, Mrs. John Bradley (Florence Briggs Th...</td>\n",
       "      <td>female</td>\n",
       "      <td>PC 17599</td>\n",
       "      <td>C85</td>\n",
       "      <td>C</td>\n",
       "    </tr>\n",
       "    <tr>\n",
       "      <th>2</th>\n",
       "      <td>Heikkinen, Miss. Laina</td>\n",
       "      <td>female</td>\n",
       "      <td>STON/O2. 3101282</td>\n",
       "      <td>U0</td>\n",
       "      <td>S</td>\n",
       "    </tr>\n",
       "    <tr>\n",
       "      <th>3</th>\n",
       "      <td>Futrelle, Mrs. Jacques Heath (Lily May Peel)</td>\n",
       "      <td>female</td>\n",
       "      <td>113803</td>\n",
       "      <td>C123</td>\n",
       "      <td>S</td>\n",
       "    </tr>\n",
       "    <tr>\n",
       "      <th>4</th>\n",
       "      <td>Allen, Mr. William Henry</td>\n",
       "      <td>male</td>\n",
       "      <td>373450</td>\n",
       "      <td>U0</td>\n",
       "      <td>S</td>\n",
       "    </tr>\n",
       "  </tbody>\n",
       "</table>\n",
       "</div>"
      ],
      "text/plain": [
       "                                                Name  Gender  \\\n",
       "0                            Braund, Mr. Owen Harris    male   \n",
       "1  Cumings, Mrs. John Bradley (Florence Briggs Th...  female   \n",
       "2                             Heikkinen, Miss. Laina  female   \n",
       "3       Futrelle, Mrs. Jacques Heath (Lily May Peel)  female   \n",
       "4                           Allen, Mr. William Henry    male   \n",
       "\n",
       "             Ticket Cabin Embarked  \n",
       "0         A/5 21171    U0        S  \n",
       "1          PC 17599   C85        C  \n",
       "2  STON/O2. 3101282    U0        S  \n",
       "3            113803  C123        S  \n",
       "4            373450    U0        S  "
      ]
     },
     "execution_count": 121,
     "metadata": {},
     "output_type": "execute_result"
    }
   ],
   "source": [
    "# CATEGORICAL VARIABLES\n",
    "# your code here\n",
    "titanic.select_dtypes(\"object\").head()"
   ]
  },
  {
   "cell_type": "markdown",
   "metadata": {},
   "source": [
    "#### Set the plot style to classic and the figure size to (12,6).\n",
    "**Hint**: To set the style you can use matplotlib or seaborn functions. Do some research on the matter."
   ]
  },
  {
   "cell_type": "code",
   "execution_count": 127,
   "metadata": {
    "ExecuteTime": {
     "end_time": "2019-08-03T11:13:55.540882Z",
     "start_time": "2019-08-03T11:13:55.523134Z"
    }
   },
   "outputs": [
    {
     "data": {
      "text/plain": [
       "<Figure size 864x432 with 0 Axes>"
      ]
     },
     "metadata": {},
     "output_type": "display_data"
    }
   ],
   "source": [
    "# your code here\n",
    "plt.figure(figsize=(12, 6))\n",
    "sns.set_style(\"whitegrid\")"
   ]
  },
  {
   "cell_type": "markdown",
   "metadata": {},
   "source": [
    "#### Use the right visulalization to show the distribution of column `Age`."
   ]
  },
  {
   "cell_type": "code",
   "execution_count": 130,
   "metadata": {
    "ExecuteTime": {
     "end_time": "2019-08-03T11:14:59.753982Z",
     "start_time": "2019-08-03T11:14:59.122908Z"
    }
   },
   "outputs": [
    {
     "data": {
      "image/png": "[encoded data removed]",
      "text/plain": [
       "<Figure size 432x288 with 1 Axes>"
      ]
     },
     "metadata": {},
     "output_type": "display_data"
    }
   ],
   "source": [
    "# your code here\n",
    "titanic[\"Age\"].hist()\n",
    "plt.show()"
   ]
  },
  {
   "cell_type": "markdown",
   "metadata": {},
   "source": [
    "#### Use subplots and plot the distribution of the `Age`  with bins equal to 10, 20 and 50."
   ]
  },
  {
   "cell_type": "code",
   "execution_count": 158,
   "metadata": {
    "ExecuteTime": {
     "end_time": "2019-08-03T11:30:43.488985Z",
     "start_time": "2019-08-03T11:30:42.989844Z"
    }
   },
   "outputs": [
    {
     "data": {
      "image/png": "[encoded data removed]",
      "text/plain": [
       "<Figure size 432x288 with 3 Axes>"
      ]
     },
     "metadata": {},
     "output_type": "display_data"
    }
   ],
   "source": [
    "# your code here\n",
    "fig, [ax1,ax2,ax3] = plt.subplots(1,3)\n",
    "plt.sca(ax1)\n",
    "titanic[\"Age\"].hist(bins=10)\n",
    "\n",
    "plt.sca(ax2)\n",
    "\n",
    "titanic[\"Age\"].hist(bins=20)\n",
    "\n",
    "plt.sca(ax3)\n",
    "titanic[\"Age\"].hist(bins=50)\n",
    "plt.show()\n"
   ]
  },
  {
   "cell_type": "markdown",
   "metadata": {},
   "source": [
    "#### How does the bin size affect your plot?"
   ]
  },
  {
   "cell_type": "code",
   "execution_count": null,
   "metadata": {},
   "outputs": [],
   "source": [
    "\"\"\"\n",
    "your comments here\n",
    "Divide in more columns the data \n",
    "\n",
    "\"\"\""
   ]
  },
  {
   "cell_type": "markdown",
   "metadata": {},
   "source": [
    "#### Use seaborn to show the distribution of column `Age`."
   ]
  },
  {
   "cell_type": "code",
   "execution_count": 161,
   "metadata": {
    "ExecuteTime": {
     "end_time": "2019-08-03T11:36:52.024673Z",
     "start_time": "2019-08-03T11:36:51.733995Z"
    }
   },
   "outputs": [
    {
     "data": {
      "text/plain": [
       "<matplotlib.axes._subplots.AxesSubplot at 0x7f0fbf950e48>"
      ]
     },
     "execution_count": 161,
     "metadata": {},
     "output_type": "execute_result"
    },
    {
     "data": {
      "image/png": "[encoded data removed]",
      "text/plain": [
       "<Figure size 432x288 with 1 Axes>"
      ]
     },
     "metadata": {},
     "output_type": "display_data"
    }
   ],
   "source": [
    "# your code here\n",
    "sns.distplot(titanic[\"Age\"])"
   ]
  },
  {
   "cell_type": "markdown",
   "metadata": {},
   "source": [
    "#### Use the right plot to visualize column `Gender`. There are 2 ways of doing it. Do it both ways.\n",
    "**Hint**: Use matplotlib and seaborn."
   ]
  },
  {
   "cell_type": "code",
   "execution_count": 170,
   "metadata": {
    "ExecuteTime": {
     "end_time": "2019-08-03T11:41:39.875995Z",
     "start_time": "2019-08-03T11:41:39.680119Z"
    }
   },
   "outputs": [
    {
     "data": {
      "text/plain": [
       "<matplotlib.axes._subplots.AxesSubplot at 0x7f0fbf7d0160>"
      ]
     },
     "execution_count": 170,
     "metadata": {},
     "output_type": "execute_result"
    },
    {
     "data": {
      "image/png": "[encoded data removed]",
      "text/plain": [
       "<Figure size 432x288 with 1 Axes>"
      ]
     },
     "metadata": {},
     "output_type": "display_data"
    }
   ],
   "source": [
    "# Method 1 - matplotlib\n",
    "# your code here\n",
    "titanic[\"Gender\"].value_counts().plot.bar()"
   ]
  },
  {
   "cell_type": "code",
   "execution_count": 163,
   "metadata": {
    "ExecuteTime": {
     "end_time": "2019-08-03T11:37:53.596861Z",
     "start_time": "2019-08-03T11:37:53.421448Z"
    },
    "scrolled": true
   },
   "outputs": [
    {
     "data": {
      "text/plain": [
       "<matplotlib.axes._subplots.AxesSubplot at 0x7f0fbf918c88>"
      ]
     },
     "execution_count": 163,
     "metadata": {},
     "output_type": "execute_result"
    },
    {
     "data": {
      "image/png": "[encoded data removed]",
      "text/plain": [
       "<Figure size 432x288 with 1 Axes>"
      ]
     },
     "metadata": {},
     "output_type": "display_data"
    }
   ],
   "source": [
    "# Method 2 - seaborn\n",
    "# your code here\n",
    "sns.countplot(titanic[\"Gender\"])"
   ]
  },
  {
   "cell_type": "markdown",
   "metadata": {},
   "source": [
    "#### Use the right plot to visualize the column `Pclass`."
   ]
  },
  {
   "cell_type": "code",
   "execution_count": 187,
   "metadata": {
    "ExecuteTime": {
     "end_time": "2019-08-03T11:47:15.154554Z",
     "start_time": "2019-08-03T11:47:14.973022Z"
    }
   },
   "outputs": [
    {
     "data": {
      "text/plain": [
       "<matplotlib.axes._subplots.AxesSubplot at 0x7f0fc0a3b7f0>"
      ]
     },
     "execution_count": 187,
     "metadata": {},
     "output_type": "execute_result"
    },
    {
     "data": {
      "image/png": "[encoded data removed]",
      "text/plain": [
       "<Figure size 432x288 with 1 Axes>"
      ]
     },
     "metadata": {},
     "output_type": "display_data"
    }
   ],
   "source": [
    "# your code here\n",
    "sns.countplot(titanic[\"Pclass\"])"
   ]
  },
  {
   "cell_type": "markdown",
   "metadata": {},
   "source": [
    "#### We would like to have in one single plot the summary statistics of the feature `Age`. What kind of plot would you use? Plot it. "
   ]
  },
  {
   "cell_type": "code",
   "execution_count": 188,
   "metadata": {
    "ExecuteTime": {
     "end_time": "2019-08-03T11:47:57.102560Z",
     "start_time": "2019-08-03T11:47:57.095128Z"
    }
   },
   "outputs": [
    {
     "data": {
      "text/plain": [
       "0       22.000000\n",
       "1       38.000000\n",
       "2       26.000000\n",
       "3       35.000000\n",
       "4       35.000000\n",
       "5       23.926502\n",
       "6       54.000000\n",
       "7        2.000000\n",
       "8       27.000000\n",
       "9       14.000000\n",
       "10       4.000000\n",
       "11      58.000000\n",
       "12      20.000000\n",
       "13      39.000000\n",
       "14      14.000000\n",
       "15      55.000000\n",
       "16       2.000000\n",
       "17      32.172868\n",
       "18      31.000000\n",
       "19      27.749836\n",
       "20      35.000000\n",
       "21      34.000000\n",
       "22      15.000000\n",
       "23      28.000000\n",
       "24       8.000000\n",
       "25      38.000000\n",
       "26      27.749836\n",
       "27      19.000000\n",
       "28      22.581283\n",
       "29      27.824180\n",
       "          ...    \n",
       "1279    21.000000\n",
       "1280     6.000000\n",
       "1281    23.000000\n",
       "1282    51.000000\n",
       "1283    13.000000\n",
       "1284    47.000000\n",
       "1285    29.000000\n",
       "1286    18.000000\n",
       "1287    24.000000\n",
       "1288    48.000000\n",
       "1289    22.000000\n",
       "1290    31.000000\n",
       "1291    30.000000\n",
       "1292    38.000000\n",
       "1293    22.000000\n",
       "1294    17.000000\n",
       "1295    43.000000\n",
       "1296    20.000000\n",
       "1297    23.000000\n",
       "1298    50.000000\n",
       "1299    21.762804\n",
       "1300     3.000000\n",
       "1301    32.693417\n",
       "1302    37.000000\n",
       "1303    28.000000\n",
       "1304    29.513190\n",
       "1305    39.000000\n",
       "1306    38.500000\n",
       "1307    29.513190\n",
       "1308    25.315435\n",
       "Name: Age, Length: 1309, dtype: float64"
      ]
     },
     "execution_count": 188,
     "metadata": {},
     "output_type": "execute_result"
    }
   ],
   "source": [
    "# your code here\n",
    "titanic.Age\n"
   ]
  },
  {
   "cell_type": "code",
   "execution_count": null,
   "metadata": {},
   "outputs": [],
   "source": [
    "\"\"\"\n",
    "your comments here\n",
    "\"\"\""
   ]
  },
  {
   "cell_type": "markdown",
   "metadata": {},
   "source": [
    "#### What does the last plot tell you about the feature `Age`?"
   ]
  },
  {
   "cell_type": "code",
   "execution_count": null,
   "metadata": {},
   "outputs": [],
   "source": [
    "\"\"\"\n",
    "your comments here\n",
    "\"\"\""
   ]
  },
  {
   "cell_type": "markdown",
   "metadata": {},
   "source": [
    "#### Now in addition to the summary statistics, we want to have in the same plot the distribution of `Age`. What kind of plot would you use? Plot it. "
   ]
  },
  {
   "cell_type": "code",
   "execution_count": null,
   "metadata": {},
   "outputs": [],
   "source": [
    "# your code here"
   ]
  },
  {
   "cell_type": "markdown",
   "metadata": {},
   "source": [
    "#### What additional information does the last plot provide about feature `Age`?"
   ]
  },
  {
   "cell_type": "code",
   "execution_count": null,
   "metadata": {},
   "outputs": [],
   "source": [
    "\"\"\"\n",
    "your comments here\n",
    "\"\"\""
   ]
  },
  {
   "cell_type": "markdown",
   "metadata": {},
   "source": [
    "#### We suspect that there is a linear relationship between `Fare` and `Age`. Use the right plot to show the relationship between these 2 features. There are 2 ways, please do it both ways.\n",
    "**Hint**: Use matplotlib and seaborn."
   ]
  },
  {
   "cell_type": "code",
   "execution_count": null,
   "metadata": {},
   "outputs": [],
   "source": [
    "# Method 1 - matplotlib\n",
    "# your code here"
   ]
  },
  {
   "cell_type": "code",
   "execution_count": null,
   "metadata": {},
   "outputs": [],
   "source": [
    "# Method 2 - seaborn\n",
    "# your code here"
   ]
  },
  {
   "cell_type": "markdown",
   "metadata": {},
   "source": [
    "#### Plot the correlation matrix using seaborn."
   ]
  },
  {
   "cell_type": "code",
   "execution_count": null,
   "metadata": {},
   "outputs": [],
   "source": [
    "# your code here"
   ]
  },
  {
   "cell_type": "markdown",
   "metadata": {},
   "source": [
    "#### What are the most correlated features?"
   ]
  },
  {
   "cell_type": "code",
   "execution_count": null,
   "metadata": {},
   "outputs": [],
   "source": [
    "\"\"\"\n",
    "your comments here\n",
    "\"\"\""
   ]
  },
  {
   "cell_type": "markdown",
   "metadata": {},
   "source": [
    "#### Use the most appropriate plot to display the summary statistics of `Age` depending on `Pclass`."
   ]
  },
  {
   "cell_type": "code",
   "execution_count": null,
   "metadata": {
    "scrolled": true
   },
   "outputs": [],
   "source": [
    "# your code here"
   ]
  },
  {
   "cell_type": "markdown",
   "metadata": {},
   "source": [
    "#### Use seaborn to plot the distribution of `Age` based on the `Gender`.\n",
    "**Hint**: Use Facetgrid."
   ]
  },
  {
   "cell_type": "code",
   "execution_count": null,
   "metadata": {},
   "outputs": [],
   "source": [
    "# your code here"
   ]
  }
 ],
 "metadata": {
  "anaconda-cloud": {},
  "kernelspec": {
   "display_name": "Python 3",
   "language": "python",
   "name": "python3"
  },
  "language_info": {
   "codemirror_mode": {
    "name": "ipython",
    "version": 3
   },
   "file_extension": ".py",
   "mimetype": "text/x-python",
   "name": "python",
   "nbconvert_exporter": "python",
   "pygments_lexer": "ipython3",
   "version": "3.7.3"
  },
  "latex_envs": {
   "LaTeX_envs_menu_present": true,
   "autoclose": false,
   "autocomplete": true,
   "bibliofile": "biblio.bib",
   "cite_by": "apalike",
   "current_citInitial": 1,
   "eqLabelWithNumbers": true,
   "eqNumInitial": 1,
   "hotkeys": {
    "equation": "Ctrl-E",
    "itemize": "Ctrl-I"
   },
   "labels_anchors": false,
   "latex_user_defs": false,
   "report_style_numbering": false,
   "user_envs_cfg": false
  },
  "toc": {
   "base_numbering": 1,
   "nav_menu": {},
   "number_sections": true,
   "sideBar": true,
   "skip_h1_title": false,
   "title_cell": "Table of Contents",
   "title_sidebar": "Contents",
   "toc_cell": true,
   "toc_position": {},
   "toc_section_display": true,
   "toc_window_display": false
  },
  "varInspector": {
   "cols": {
    "lenName": 16,
    "lenType": 16,
    "lenVar": 40
   },
   "kernels_config": {
    "python": {
     "delete_cmd_postfix": "",
     "delete_cmd_prefix": "del ",
     "library": "var_list.py",
     "varRefreshCmd": "print(var_dic_list())"
    },
    "r": {
     "delete_cmd_postfix": ") ",
     "delete_cmd_prefix": "rm(",
     "library": "var_list.r",
     "varRefreshCmd": "cat(var_dic_list()) "
    }
   },
   "types_to_exclude": [
    "module",
    "function",
    "builtin_function_or_method",
    "instance",
    "_Feature"
   ],
   "window_display": false
  }
 },
 "nbformat": 4,
 "nbformat_minor": 1
}
